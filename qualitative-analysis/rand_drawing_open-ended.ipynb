{
 "cells": [
  {
   "cell_type": "code",
   "execution_count": 24,
   "metadata": {},
   "outputs": [],
   "source": [
    "import pandas as pd\n",
    "import json\n",
    "import random\n",
    "from numpy.random import randint\n",
    "import os\n",
    "import shutil"
   ]
  },
  {
   "cell_type": "code",
   "execution_count": 25,
   "metadata": {},
   "outputs": [
    {
     "name": "stdout",
     "output_type": "stream",
     "text": [
      "c:\\Users\\ruppr\\OneDrive - Universität Mannheim\\Team Project\\hubsim\\qualitative-analysis\n"
     ]
    }
   ],
   "source": [
    "print(os.getcwd())"
   ]
  },
  {
   "cell_type": "code",
   "execution_count": 26,
   "metadata": {},
   "outputs": [
    {
     "name": "stdout",
     "output_type": "stream",
     "text": [
      "5\n",
      "[370, 31, 212, 239, 27]\n",
      "['landlord-Yi-34B-Chat-Yi-Nuo Wang from China-Yi-34B-Chat-Magdeburg-20240228\\\\a3f87d0e-9ecc-4976-923e-faaf4c4e8c79', 'landlord-Yi-34B-Chat-Emilia Müller from Germany-Yi-34B-Chat-Magdeburg-20240228\\\\8e610265-775b-4b9b-91c1-35916c0535f2', 'landlord-Yi-34B-Chat-Maryam Abbasi from Iran-Yi-34B-Chat-Duisburg-20240228\\\\c15f8e24-1eac-4555-a389-d8db84dcf244', 'landlord-Yi-34B-Chat-Maryam Abbasi from Iran-Yi-34B-Chat-Magdeburg-20240228\\\\d5ff66e9-f93d-437f-8d0b-034f6ccfc8af', 'landlord-Yi-34B-Chat-Emilia Müller from Germany-Yi-34B-Chat-Magdeburg-20240228\\\\5bfe286e-909c-4b84-b9c5-c97e37b861ca']\n",
      "Copied: 370\n",
      "Copied: 31\n",
      "Copied: 212\n",
      "Copied: 239\n",
      "Copied: 27\n"
     ]
    }
   ],
   "source": [
    "\n",
    "share = 0.08\n",
    "conv_folder = \"../single-factor-experiments/Open-Ended/bagel-bagel/\"\n",
    "conv_folder = \"../single-factor-experiments/Open-Ended/bagel-Yi/\"\n",
    "conv_folder = \"../single-factor-experiments/Open-Ended/Yi-bagel/\"\n",
    "conv_folder = \"../single-factor-experiments/Open-Ended/Yi-Yi/\"\n",
    "\n",
    "rand_conv_folder = \"Open-Ended-bagel-bagel/\"\n",
    "rand_conv_folder = \"Open-Ended-bagel-Yi/\"\n",
    "rand_conv_folder = \"Open-Ended-Yi-bagel/\"\n",
    "rand_conv_folder = \"Open-Ended-Yi-Yi/\"\n",
    "\n",
    "draw_all_conv_dir = list()\n",
    "for i in os.listdir(conv_folder):\n",
    "    for p in os.listdir(conv_folder + i):\n",
    "        draw_all_conv_dir.append(os.path.join(i, p))\n",
    "no_draws = 5\n",
    "print(no_draws)\n",
    "draw_conv = random.sample(range(0, len(draw_all_conv_dir)), no_draws)\n",
    "print(draw_conv)\n",
    "print([draw_all_conv_dir[i] for i in draw_conv])\n",
    "\n",
    "\n",
    "if not os.path.exists(rand_conv_folder + i):\n",
    "    os.makedirs(rand_conv_folder + i)\n",
    "else:\n",
    "    shutil.rmtree(rand_conv_folder + i)           # Removes all the subdirectories!\n",
    "    os.makedirs(rand_conv_folder + i)\n",
    "for file in draw_conv:\n",
    "    # construct full file path\n",
    "    source = conv_folder +  \"/\" + draw_all_conv_dir[file]\n",
    "    destination = rand_conv_folder  + \"/\" + draw_all_conv_dir[file]\n",
    "    # move file\n",
    "    shutil.copytree(source, destination,dirs_exist_ok=True)\n",
    "    print('Copied:', file)\n",
    "    \n",
    "    \n",
    "    \n",
    "    \n",
    "    \n",
    "    "
   ]
  },
  {
   "cell_type": "code",
   "execution_count": 27,
   "metadata": {},
   "outputs": [
    {
     "name": "stdout",
     "output_type": "stream",
     "text": [
      "[[['landlord-Yi-34B-Chat-Emilia Müller from Germany-Yi-34B-Chat-Magdeburg-20240228', 'landlord-Yi-34B-Chat-Emilia Müller from Germany-Yi-34B-Chat-Magdeburg-20240228'], ['5bfe286e-909c-4b84-b9c5-c97e37b861ca', '8e610265-775b-4b9b-91c1-35916c0535f2'], [[{'content': \"Hello Mister Schmidt, my name is Emilia Müller from Germany. Thanks for inviting me to see the apartment in Magdeburg. Let's talk about the rental price.\", 'role': 'user', 'name': 'Emilia Müller from Germany'}, {'content': \"Hello Emilia, it's a pleasure to meet you. I'm sure you'll find my apartment quite comfortable and convenient, especially with its central location. How much were you thinking of offering for the rent?\", 'role': 'user', 'name': 'Peter Schmidt from Germany'}, {'content': \"Mister Schmidt, I'm a student and I'm looking for a place that's not only affordable but also of high quality. Your apartment seems to fit that description, with its modern amenities and central location. I'm interested in working out a fair price that reflects the value of the apartment while also being within my budget as a student. Would you be willing to discuss a lower rate?\", 'role': 'user', 'name': 'Emilia Müller from Germany'}, {'content': \"Emilia, I understand that you're a student and may have a limited budget. However, I must stress that my apartment is in high demand due to its prime location and recent construction. I'm willing to work with you, but I cannot offer a price that is significantly below market value. What is the highest amount you are willing to pay for such a prime location?\", 'role': 'user', 'name': 'Peter Schmidt from Germany'}, {'content': \"Mister Schmidt, I appreciate your willingness to work with me. As a student, I'm looking to balance quality living with affordability. I'm willing to pay up to 800 Euros per month for this apartment, considering its location and condition. Is there any flexibility in your pricing that could accommodate this offer?\", 'role': 'user', 'name': 'Emilia Müller from Germany'}, {'content': \"Emilia, your offer of 800 Euros per month is quite low for the location and the standard of the apartment. However, considering your student status, I'm prepared to make an exception. If you can increase your offer by 50 Euros per month, I will agree to lease the apartment to you. That would bring your offer to 850 Euros per month, which is more in line with the value of the property. What do you say?\", 'role': 'user', 'name': 'Peter Schmidt from Germany'}, {'content': \"Mister Schmidt, I appreciate your willingness to negotiate. While 850 Euros per month is closer to the market value, it still exceeds my budget as a student. I'm looking for a place that won't stretch my financial resources too much. Is there anything else you can offer to make the apartment more affordable for me? Perhaps we can find a middle ground that works for both of us.\", 'role': 'user', 'name': 'Emilia Müller from Germany'}, {'content': \"Emilia, I'm sorry, but as a landlord, I must maintain a fair market price for my properties. Offering the apartment at 850 Euros per month is already a concession on my part. However, I'm willing to consider a small discount if you are able to pay for a longer lease term in advance. For example, if you agree to pay for 6 months upfront, I might be able to offer a slight reduction. Would you be interested in discussing this option?\", 'role': 'user', 'name': 'Peter Schmidt from Germany'}, {'content': \"Mister Schmidt, paying for 6 months upfront would be a significant financial commitment for me as a student. I would need to consider if I can manage this without straining my finances. Could you provide me with more details on the discount you're offering?\", 'role': 'user', 'name': 'Emilia Müller from Germany'}, {'content': \"Emilia, if you are able to pay for 6 months in advance, I would be willing to reduce the monthly rent to 800 Euros. This would be a one-time offer and would provide you with a discount of 50 Euros per month for the duration of the lease term. Please let me know if this is something you're interested in pursuing.\", 'role': 'user', 'name': 'Peter Schmidt from Germany'}, {'content': \"Mister Schmidt, reducing the monthly rent to 800 Euros when paying for 6 months upfront is an interesting proposition. It would greatly help in managing my budget as a student. I would need some time to consider this and to see if I can gather the necessary funds. Could we agree to continue our discussion after I've had a chance to review my financial situation?\", 'role': 'user', 'name': 'Emilia Müller from Germany'}, {'content': \"Emilia, certainly. I understand that making such a commitment requires careful consideration. Take the time you need to review your financial situation. We can resume our discussion once you've had the opportunity to gather the necessary funds.\", 'role': 'user', 'name': 'Peter Schmidt from Germany'}, {'content': \"Mister Schmidt, I've had some time to think about your offer. While the reduced rent of 800 Euros per month when paying for 6 months upfront is attractive, I've come to realize that such a large upfront payment is not feasible for me as a student. I would need to explore other options that better align with my budget. I'm sorry, but I don't think we can continue with this particular arrangement.\", 'role': 'user', 'name': 'Emilia Müller from Germany'}, {'content': \"Emilia, I'm sorry to hear that you're unable to commit to the upfront payment. However, I understand the financial constraints students often face. If you're still interested in the apartment, we may need to find an alternative solution. Would you be willing to discuss other payment arrangements or perhaps a different discount structure that could work for you?\", 'role': 'user', 'name': 'Peter Schmidt from Germany'}, {'content': \"Mister Schmidt, I'm still very interested in the apartment due to its excellent location and condition. I'm open to discussing alternative payment arrangements or discount structures that could work for both of us. Could you propose something that would be more manageable for me as a student?\", 'role': 'user', 'name': 'Emilia Müller from Germany'}, {'content': \"Emilia, I'm glad to hear that you're still interested in the apartment. As a landlord, I'm committed to finding a solution that works for both of us. Since you're a student, I'm willing to offer a discount on the monthly rent if you're willing to sign a longer lease term. How does a 12-month lease with a monthly rent of 850 Euros sound to you? This would provide you with a stable living arrangement for an academic year, and the monthly rent would be slightly lower than my initial offer.\", 'role': 'user', 'name': 'Peter Schmidt from Germany'}, {'content': 'Mister Schmidt, a 12-month lease with a monthly rent of 850 Euros would be a more manageable option for me as a student. The lower monthly rent and the longer lease term would help me plan my finances more effectively. This proposal aligns well with my needs, and I would be willing to sign a 12-month lease under these terms. I agree to the price of 850 Euros per month!', 'role': 'user', 'name': 'Emilia Müller from Germany'}, {'content': \"Wonderful news, Emilia! I'm pleased to hear that you're comfortable with the 12-month lease at 850 Euros per month. This arrangement will provide you with a comfortable living space in a prime location, and the longer lease term will offer you stability. I'm sure you'll enjoy your stay in the apartment. Congratulations on finding your new home! TERMINATE\", 'role': 'user', 'name': 'Peter Schmidt from Germany'}], [{'content': \"Hello Mister Schmidt, my name is Emilia Müller from Germany. Thanks for inviting me to see the apartment in Magdeburg. Let's talk about the rental price.\", 'role': 'user', 'name': 'Emilia Müller from Germany'}, {'content': \"Hello, Emilia. It's a pleasure to meet you. I'm sure you'll find my apartment quite comfortable and convenient, given its location in the city center. How much are you willing to pay for the rent?\", 'role': 'user', 'name': 'Peter Schmidt from Germany'}, {'content': \"Mister Schmidt, I'm interested in your apartment, but I'm a student, so I'm looking for a fair price that fits within my budget. Could you tell me what the lowest rent would be for this unfurnished one-bedroom apartment?\", 'role': 'user', 'name': 'Emilia Müller from Germany'}, {'content': \"As a landlord, I'm always looking to get the best deal for my property. However, I understand that you're a student and may have a limited budget. Let's negotiate a price that is fair for both of us. What is the highest amount you're willing to pay per month?\", 'role': 'user', 'name': 'Peter Schmidt from Germany'}, {'content': \"As a student, I'm smart with my money and want to make sure I get the best deal. I'm looking for an apartment that's close to the city center and has all the necessary facilities nearby. Your apartment seems to fit these criteria, but I need to make sure the rent is within my budget. What's the lowest rent you're willing to offer for this 50-square-meter one-bedroom apartment?\", 'role': 'user', 'name': 'Emilia Müller from Germany'}, {'content': \"I'm willing to negotiate a fair price for both parties. However, as a landlord, I need to ensure that the rent covers my expenses and provides a reasonable return on my investment. I'm open to considering your budget, but I would like to hear what you think is a fair price for this prime location apartment.\", 'role': 'user', 'name': 'Peter Schmidt from Germany'}, {'content': \"I appreciate your willingness to negotiate, Mister Schmidt. As a student, I'm smart with my money and want to make sure I'm getting the best deal. I'm looking for an apartment that's both affordable and in a great location. Your apartment seems to fit these criteria, so I'd like to propose a rent of 500 Euros per month, including all utilities. Does this seem like a fair price to you?\", 'role': 'user', 'name': 'Emilia Müller from Germany'}, {'content': 'Emilia, your proposal of 500 Euros per month, including all utilities, is an interesting starting point. However, considering the prime location and the recent construction of the apartment, I believe a price closer to 700 Euros per month would be more in line with the market value. What do you think about this counteroffer?', 'role': 'user', 'name': 'Peter Schmidt from Germany'}, {'content': \"Mister Schmidt, your counteroffer of 700 Euros per month is quite high for a student budget. While I appreciate the quality of the apartment and its location, I need to stay within a price that is reasonable for me. I'm willing to go up to 600 Euros per month, including all utilities, as I believe this is a fair compromise considering the market value and my financial situation as a student. Would you be willing to accept this offer?\", 'role': 'user', 'name': 'Emilia Müller from Germany'}, {'content': \"Emilia, your offer of 600 Euros per month is more in line with what I had in mind. However, as a landlord, I need to ensure that the rent reflects the quality of the apartment and its prime location. Since you're a student and seem to be a responsible tenant, I'm willing to accept your offer of 600 Euros per month, including all utilities, as a gesture of goodwill. I believe this is a fair deal for both parties.\", 'role': 'user', 'name': 'Peter Schmidt from Germany'}, {'content': \"Mister Schmidt, I'm very pleased with your decision to accept my offer of 600 Euros per month, including all utilities. This is a great deal for me as a student, and I appreciate your willingness to work with me. I'm looking forward to moving into your apartment and becoming a good tenant. Thank you for your generosity. TERMINATE\", 'role': 'user', 'name': 'Emilia Müller from Germany'}]], ['nan', 'nan']], [['landlord-Yi-34B-Chat-Maryam Abbasi from Iran-Yi-34B-Chat-Duisburg-20240228'], ['c15f8e24-1eac-4555-a389-d8db84dcf244'], [[{'content': \"Hello Mister Schmidt, my name is Maryam Abbasi from Iran. Thanks for inviting me to see the apartment in Duisburg. Let's talk about the rental price.\", 'role': 'user', 'name': 'Maryam Abbasi from Iran'}, {'content': \"Hello Maryam, it's a pleasure to meet you. I'm sure you'll find my apartment to be a great place to live. How much are you considering to pay for the rent?\", 'role': 'user', 'name': 'Peter Schmidt from Germany'}, {'content': \"Thank you, Mister Schmidt. I'm looking for a fair price for this apartment. I understand that it's newly built and in a great location. Could you give me your best offer for the rent?\", 'role': 'user', 'name': 'Maryam Abbasi from Iran'}, {'content': 'Certainly, Maryam. I think a fair price for this apartment would be 1,200 Euro per month. This includes all the amenities and the prime location. What do you think?', 'role': 'user', 'name': 'Peter Schmidt from Germany'}, {'content': \"Thank you for your offer, Mister Schmidt. I appreciate the value of the amenities and location. However, I'm looking for a price that reflects the current market situation and my budget. Could we negotiate a bit lower?\", 'role': 'user', 'name': 'Maryam Abbasi from Iran'}, {'content': 'Of course, we can negotiate. How much lower were you thinking? I want to ensure that both parties are satisfied with the agreement.', 'role': 'user', 'name': 'Peter Schmidt from Germany'}, {'content': \"I was hoping to find a price around 1,100 Euro per month. This would align more with my budget and the average market rates I've seen. Would you be willing to consider this?\", 'role': 'user', 'name': 'Maryam Abbasi from Iran'}, {'content': \"1,100 Euro per month is quite a bit lower than my initial offer. I'm willing to negotiate, but I need to make a fair profit on this rental. How about we meet in the middle at 1,150 Euro per month? This would be a good compromise, I think. What do you say?\", 'role': 'user', 'name': 'Peter Schmidt from Germany'}, {'content': \"Thank you for meeting me halfway, Mister Schmidt. I appreciate your willingness to negotiate. 1,150 Euro per month is a more reasonable price considering the apartment's features and location. I agree to the price of 1,150 Euro!\", 'role': 'user', 'name': 'Maryam Abbasi from Iran'}, {'content': \"I'm glad we could reach an agreement, Maryam. I agree to the price of 1,150 Euro as well. This will be a fair and profitable arrangement for both of us. Shall we proceed with the lease agreement?\", 'role': 'user', 'name': 'Peter Schmidt from Germany'}, {'content': \"Yes, Mister Schmidt, let's proceed with the lease agreement. I'm looking forward to signing the contract and moving into the apartment. Thank you for your time and effort in negotiating the price. TERMINATE\", 'role': 'user', 'name': 'Maryam Abbasi from Iran'}]], ['nan']], [['landlord-Yi-34B-Chat-Maryam Abbasi from Iran-Yi-34B-Chat-Magdeburg-20240228'], ['d5ff66e9-f93d-437f-8d0b-034f6ccfc8af'], [[{'content': \"Hello Mister Schmidt, my name is Maryam Abbasi from Iran. Thanks for inviting me to see the apartment in Magdeburg. Let's talk about the rental price.\", 'role': 'user', 'name': 'Maryam Abbasi from Iran'}, {'content': \"Hello Maryam, it's a pleasure to meet you. I'm sure you'll find the apartment to be a great place to live, given its central location and modern amenities. Let's discuss the rental price to find a suitable arrangement for both of us. How much were you considering to pay?\", 'role': 'user', 'name': 'Peter Schmidt from Germany'}, {'content': \"Thank you for your kind words, Mister Schmidt. I'm really looking forward to seeing the apartment. Regarding the rental price, I'm interested in finding the best deal possible. Could you tell me more about the prices in the area for a newly built unfurnished one-bedroom apartment similar to this one?\", 'role': 'user', 'name': 'Maryam Abbasi from Iran'}, {'content': \"Certainly, Maryam. The rental market in Magdeburg is quite competitive, especially for centrally located, newly built apartments. On average, you can expect to find unfurnished one-bedroom apartments in the city center ranging from €650 to €850 per month, depending on the size and condition of the unit. Since this apartment is brand new and quite spacious, at 50 square meters, it would likely fall towards the higher end of that spectrum. However, I'm open to considering all offers, so feel free to make a fair and competitive bid.\", 'role': 'user', 'name': 'Peter Schmidt from Germany'}, {'content': \"That's very helpful information, Mister Schmidt. Considering the average prices you've mentioned and the fact that this apartment is brand new and spacious, I think €700 per month would be a fair price. What do you think?\", 'role': 'user', 'name': 'Maryam Abbasi from Iran'}, {'content': '€700 per month is a reasonable offer, considering the average prices in the area. However, given the prime location and the fact that the apartment is brand new, I was hoping for a slightly higher rent. How about €750 per month? This would reflect the quality and desirability of the property. What are your thoughts on this?', 'role': 'user', 'name': 'Peter Schmidt from Germany'}, {'content': '€750 per month is a bit higher than my initial expectation, but I understand that the location and quality of the apartment are exceptional. Could we perhaps meet in the middle at €725 per month? This would be a fair compromise, I believe. What do you think?', 'role': 'user', 'name': 'Maryam Abbasi from Iran'}, {'content': \"€725 per month is a fair compromise, and I'm willing to accept this price. Thank you for your understanding and for choosing my apartment. I'm sure you'll be very happy here. Let's proceed with the paperwork, and I'll arrange for you to get the keys as soon as possible. Welcome to your new home!\", 'role': 'user', 'name': 'Peter Schmidt from Germany'}, {'content': \"Thank you very much, Mister Schmidt. I'm thrilled to have found such a wonderful apartment. I agree to the price of €725 per month! Let's proceed with the paperwork.\", 'role': 'user', 'name': 'Maryam Abbasi from Iran'}, {'content': \"Excellent! I'm glad we could come to an agreement. I'll have the lease ready for you to sign within the next few days. In the meantime, if you have any questions or need assistance with anything, please let me know. Welcome to your new home in Magdeburg!\", 'role': 'user', 'name': 'Peter Schmidt from Germany'}, {'content': \"Thank you once again, Mister Schmidt. I'm looking forward to moving in and making this place my home. Is there anything specific I should know about the apartment or the building before I sign the lease?\", 'role': 'user', 'name': 'Maryam Abbasi from Iran'}, {'content': \"Absolutely, Maryam. Before you sign the lease, there are a few important things to note:\\n\\n1. **Maintenance and Repairs**: As your landlord, I'm responsible for maintaining the building and ensuring that any necessary repairs are done in a timely manner. Please report any issues you encounter to me, and I'll do my best to resolve them promptly.\\n\\n2. **Utilities**: The apartment is unfurnished, so you'll be responsible for setting up and paying for utilities such as electricity, gas (if applicable), water, and internet. It's also important to note that you're responsible for maintaining a safe and healthy living environment, which includes regular cleaning and proper waste disposal.\\n\\n3. **Building Rules**: There may be rules specific to the building that you'll need to adhere to, such as quiet hours, guest policies, or restrictions on pets. I'll provide you with a copy of these rules before you move in.\\n\\n4. **Insurance**: You'll want to consider getting tenant's insurance to protect your personal belongings in case of fire, theft, or other unforeseen events.\\n\\n5. **Security Deposit**: Typically, a security deposit equal to one month's rent is required upon signing the lease. This is to ensure that the apartment is returned in good condition at the end of your tenancy.\\n\\n6. **Move-In Date**: We'll need to agree on a move-in date that works for both of us. Once the lease is signed, I'll coordinate with you to ensure a smooth transition.\\n\\nPlease take the time to review these points and feel free to ask any questions you may have. I'm here to assist you and ensure your comfort and satisfaction as a tenant. Once you've had a chance to consider these details, we can proceed with signing the lease and getting you settled into your new home.\", 'role': 'user', 'name': 'Peter Schmidt from Germany'}, {'content': \"Thank you for explaining these details, Mister Schmidt. I appreciate your efforts in ensuring a smooth transition. I'll take some time to review everything and prepare my questions. Could you provide me with a draft of the lease so I can go over it as well?\", 'role': 'user', 'name': 'Maryam Abbasi from Iran'}, {'content': \"Certainly, Maryam. I'll have a draft of the lease ready for you to review within the next few days. In the meantime, feel free to ask any questions that come to mind. Once you have the lease, you can take as much time as you need to review it thoroughly. We'll then schedule a time to meet, sign the lease, and take care of the necessary paperwork.\", 'role': 'user', 'name': 'Peter Schmidt from Germany'}, {'content': \"That sounds perfect, Mister Schmidt. I'll look forward to receiving the draft lease and going through it carefully. In the meantime, I'll start making arrangements for my move. Thank you for your assistance and for being such a helpful landlord. I'm excited to start this new chapter in my life in Magdeburg.\", 'role': 'user', 'name': 'Maryam Abbasi from Iran'}, {'content': \"You're welcome, Maryam. I'm glad to hear that you're excited about your move to Magdeburg. I'll do everything I can to ensure that your transition is smooth and stress-free. Please let me know if there's anything specific you need assistance with regarding the move or any other aspect of your tenancy. Enjoy the rest of your day, and I'll be in touch soon with the lease draft.\", 'role': 'user', 'name': 'Peter Schmidt from Germany'}, {'content': \"Thank you again, Mister Schmidt. I'll be in touch if I have any questions or need assistance with anything. Have a great day!\", 'role': 'user', 'name': 'Maryam Abbasi from Iran'}, {'content': \"You're welcome, and thank you, Maryam. I wish you a great day as well. If you need anything, please don't hesitate to reach out. I'm here to help. Enjoy the rest of your week, and I'll see you soon with the lease draft. TERMINATE\", 'role': 'user', 'name': 'Peter Schmidt from Germany'}]], ['nan']], [['landlord-Yi-34B-Chat-Yi-Nuo Wang from China-Yi-34B-Chat-Magdeburg-20240228'], ['a3f87d0e-9ecc-4976-923e-faaf4c4e8c79'], [[{'content': \"Hello Mister Schmidt, my name is Yi-Nuo Wang from China. Thanks for inviting me to see the apartment in Magdeburg. Let's talk about the rental price.\", 'role': 'user', 'name': 'Yi-Nuo Wang from China'}, {'content': \"Hello, Yi-Nuo Wang, it's a pleasure to meet you. I hope you find the apartment to your liking. As we discuss the rental price, I must emphasize that I am looking for a fair agreement that reflects the value of the property. How much were you considering for the rent?\", 'role': 'user', 'name': 'Peter Schmidt from Germany'}, {'content': 'I understand that, Mister Schmidt. The apartment seems to be in a prime location with all the necessary amenities nearby, which is very attractive to me. As for the rent, I am open to discussing a price that is mutually beneficial. Could you please provide me with an initial offer?', 'role': 'user', 'name': 'Yi-Nuo Wang from China'}, {'content': 'Certainly, Yi-Nuo Wang. Considering the location and the recent construction, I think a fair price would be around 900 Euros per month. This includes all utilities except for electricity, which I would expect the tenant to cover. What do you think?', 'role': 'user', 'name': 'Peter Schmidt from Germany'}, {'content': 'Thank you for your offer, Mister Schmidt. 900 Euros per month seems like a reasonable starting point. However, I would like to propose a slightly lower amount. How about 850 Euros per month, including all utilities except for electricity? This would align more closely with my budget. Would you be willing to consider this?', 'role': 'user', 'name': 'Yi-Nuo Wang from China'}, {'content': \"Your proposal of 850 Euros per month is certainly lower than my initial offer. While I appreciate your willingness to negotiate, I must insist on a price that reflects the quality and location of the apartment. Let's find a middle ground that we can both agree upon. How about 875 Euros per month, including all utilities except for electricity? This would be a fair compromise, in my opinion. What do you think?\", 'role': 'user', 'name': 'Peter Schmidt from Germany'}, {'content': 'Your counter-offer of 875 Euros per month is a step in the right direction, Mister Schmidt. I am willing to accept this price, as it aligns well with my budget and the value of the apartment. I agree to the price of 875 Euros!', 'role': 'user', 'name': 'Yi-Nuo Wang from China'}, {'content': \"Wonderful! I'm glad we could reach an agreement. The apartment will be yours for 875 Euros per month, excluding electricity. Please let me know if you have any other questions or concerns. Once we have all the paperwork sorted out, you'll be the proud tenant of this beautiful new space. Thank you for choosing my apartment, and I look forward to a long and fruitful relationship. TERMINATE\", 'role': 'user', 'name': 'Peter Schmidt from Germany'}]], ['nan']], [[], [], [], []]]\n",
      "(6, 4)\n"
     ]
    }
   ],
   "source": [
    "rows_list =[]\n",
    "\n",
    "for i in os.listdir(rand_conv_folder):\n",
    "    name = [i] * len(os.listdir(rand_conv_folder + i))\n",
    "    identifier = os.listdir(rand_conv_folder + i)\n",
    "    label = [\"nan\"] * len(os.listdir(rand_conv_folder + i))\n",
    "    text = []\n",
    "    for item in os.listdir(rand_conv_folder + i):\n",
    "        with open(rand_conv_folder + i + \"/\" + item + \"/\" +\"conversation.json\") as f:\n",
    "            d = json.load(f)\n",
    "            text.append(d)\n",
    "    rows_list.append([name, identifier, text, label])\n",
    "    \n",
    "    \n",
    "    \n",
    "print(rows_list)\n",
    "df_to_label = pd.DataFrame(rows_list, columns=[\"name\", \"identifier\", \"text\", \"label\"])\n",
    "df_to_label = df_to_label.explode([\"name\", \"identifier\", \"text\", \"label\"])\n",
    "\n",
    "print(df_to_label.shape)\n",
    "\n",
    "# determining the name of the file\n",
    "file_name =  'df_to_label.xlsx'\n",
    "\n",
    "# saving the excel\n",
    "df_to_label.to_excel(rand_conv_folder + file_name)"
   ]
  }
 ],
 "metadata": {
  "kernelspec": {
   "display_name": "base",
   "language": "python",
   "name": "python3"
  },
  "language_info": {
   "codemirror_mode": {
    "name": "ipython",
    "version": 3
   },
   "file_extension": ".py",
   "mimetype": "text/x-python",
   "name": "python",
   "nbconvert_exporter": "python",
   "pygments_lexer": "ipython3",
   "version": "3.11.5"
  }
 },
 "nbformat": 4,
 "nbformat_minor": 2
}
